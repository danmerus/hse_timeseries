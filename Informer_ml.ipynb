{
 "cells": [
  {
   "cell_type": "code",
   "execution_count": 133,
   "metadata": {},
   "outputs": [],
   "source": [
    "import torch\n",
    "import torchvision\n",
    "import numpy as np\n",
    "import matplotlib\n",
    "import matplotlib.pyplot as plt\n",
    "import torch.nn as nn\n",
    "import torch.nn.functional as F\n",
    "import pandas as pd\n",
    "from torchvision.datasets import MNIST\n",
    "from torchvision.transforms import ToTensor\n",
    "from torchvision.utils import make_grid\n",
    "from torch.utils.data.dataloader import DataLoader, Dataset, IterableDataset\n",
    "from torch.utils.data import random_split\n",
    "from torch import optim\n",
    "from fbprophet import Prophet\n",
    "import math\n",
    "from math import sqrt\n",
    "import time \n",
    "%matplotlib inline"
   ]
  },
  {
   "cell_type": "code",
   "execution_count": 134,
   "metadata": {},
   "outputs": [
    {
     "name": "stdout",
     "output_type": "stream",
     "text": [
      "cuda\n"
     ]
    }
   ],
   "source": [
    "def get_device():\n",
    "    if torch.cuda.is_available():\n",
    "        return torch.device('cuda')\n",
    "    else:\n",
    "        return torch.device('cpu')\n",
    "print(get_device())"
   ]
  },
  {
   "cell_type": "code",
   "execution_count": 135,
   "metadata": {},
   "outputs": [],
   "source": [
    "def RSE(pred, true):\n",
    "    return np.sqrt(np.sum((true-pred)**2)) / np.sqrt(np.sum((true-true.mean())**2))\n",
    "\n",
    "def CORR(pred, true):\n",
    "    u = ((true-true.mean(0))*(pred-pred.mean(0))).sum(0) \n",
    "    d = np.sqrt(((true-true.mean(0))**2*(pred-pred.mean(0))**2).sum(0))\n",
    "    return (u/d).mean(-1)\n",
    "\n",
    "def MAE(pred, true):\n",
    "    return np.mean(np.abs(pred-true))\n",
    "\n",
    "def MSE(pred, true):\n",
    "    return np.mean((pred-true)**2)\n",
    "\n",
    "def RMSE(pred, true):\n",
    "    return np.sqrt(MSE(pred, true))\n",
    "\n",
    "def MAPE(pred, true):\n",
    "    return np.mean(np.abs((pred - true) / true))\n",
    "\n",
    "def MSPE(pred, true):\n",
    "    return np.mean(np.square((pred - true) / true))\n",
    "\n",
    "def metric(pred, true):\n",
    "    mae = MAE(pred, true)\n",
    "    mse = MSE(pred, true)\n",
    "    rmse = RMSE(pred, true)\n",
    "    mape = MAPE(pred, true)\n",
    "    mspe = MSPE(pred, true)\n",
    "    \n",
    "    return mae,mse,rmse,mape,mspe"
   ]
  },
  {
   "cell_type": "code",
   "execution_count": 136,
   "metadata": {},
   "outputs": [],
   "source": [
    "class StandardScaler():\n",
    "    def __init__(self):\n",
    "        self.mean = 0.\n",
    "        self.std = 1.\n",
    "    \n",
    "    def fit(self, data):\n",
    "        self.mean = data.mean(0)\n",
    "        self.std = data.std(0)\n",
    "\n",
    "    def transform(self, data):\n",
    "        mean = torch.from_numpy(self.mean).type_as(data).to(data.device) if torch.is_tensor(data) else self.mean\n",
    "        std = torch.from_numpy(self.std).type_as(data).to(data.device) if torch.is_tensor(data) else self.std\n",
    "        return (data - mean) / std\n",
    "\n",
    "    def inverse_transform(self, data):\n",
    "        mean = torch.from_numpy(self.mean).type_as(data).to(data.device) if torch.is_tensor(data) else self.mean\n",
    "        std = torch.from_numpy(self.std).type_as(data).to(data.device) if torch.is_tensor(data) else self.std\n",
    "        return (data * std) + mean"
   ]
  },
  {
   "cell_type": "code",
   "execution_count": 137,
   "metadata": {},
   "outputs": [],
   "source": [
    "class EarlyStopping:\n",
    "    def __init__(self, patience, verbose=False, delta=0):\n",
    "        self.patience = patience\n",
    "        self.verbose = verbose\n",
    "        self.counter = 0\n",
    "        self.best_score = None\n",
    "        self.early_stop = False\n",
    "        self.val_loss_min = np.Inf\n",
    "        self.delta = delta\n",
    "\n",
    "    def __call__(self, val_loss, model):\n",
    "        score = -val_loss\n",
    "        if self.best_score is None:\n",
    "            self.best_score = score\n",
    "        elif score < self.best_score + self.delta:\n",
    "            self.counter += 1\n",
    "            print(f'EarlyStopping counter: {self.counter} out of {self.patience}')\n",
    "            if self.counter >= self.patience:\n",
    "                self.early_stop = True\n",
    "        else:\n",
    "            self.best_score = score\n",
    "            self.counter = 0\n"
   ]
  },
  {
   "cell_type": "markdown",
   "metadata": {},
   "source": [
    "### dataset classes"
   ]
  },
  {
   "cell_type": "code",
   "execution_count": 185,
   "metadata": {},
   "outputs": [],
   "source": [
    "def get_date_repr(df_stamp, marker):\n",
    "    \n",
    "    df_stamp['year'] = df_stamp.date.apply(lambda row:row.year,1)\n",
    "    df_stamp['month'] = df_stamp.date.apply(lambda row:row.month,1)\n",
    "    df_stamp['day'] = df_stamp.date.apply(lambda row:row.day,1)\n",
    "    df_stamp['weekday'] = df_stamp.date.apply(lambda row:row.weekday(),1)\n",
    "    df_stamp['hour'] = df_stamp.date.apply(lambda row:row.hour,1)\n",
    "    df_stamp['minute'] = df_stamp.date.apply(lambda row:row.minute,1)\n",
    "    df_stamp['minute'] = df_stamp.minute.map(lambda x:x//15)\n",
    "    freq_map = {\n",
    "        'y':[],'m':['month'],'w':['month'],'d':['month','day','weekday'],\n",
    "        'b':['month','day','weekday'],'h':['month','day','weekday','hour'],\n",
    "        't':['month','day','weekday','hour','minute'],\n",
    "    }\n",
    "    return df_stamp[freq_map[marker]].values"
   ]
  },
  {
   "cell_type": "code",
   "execution_count": 186,
   "metadata": {},
   "outputs": [],
   "source": [
    "class EttDataset(Dataset):\n",
    "    def __init__(self, data, flag=0):\n",
    "        self.seq_len = seq_len\n",
    "        self.label_len = label_len\n",
    "        self.pred_len = out_len\n",
    "        self.flag = flag\n",
    "        self.data = data\n",
    "        scaler = StandardScaler()\n",
    "        \n",
    "        border1s = [0, 12*30*24 - self.seq_len, 12*30*24+4*30*24 - self.seq_len]\n",
    "        border2s = [12*30*24, 12*30*24+4*30*24, 12*30*24+8*30*24]\n",
    "        border1 = border1s[self.flag]\n",
    "        border2 = border2s[self.flag]\n",
    "        \n",
    "        cols_data = self.data.columns[1:]\n",
    "        df_data = self.data[cols_data]\n",
    "        \n",
    "        train_data = df_data[border1s[0]:border2s[0]]\n",
    "        scaler.fit(train_data.values)\n",
    "        df_data = scaler.transform(df_data.values)\n",
    "        self.df_stamp = self.data[['date']][border1:border2]\n",
    "        self.df_stamp['date'] = pd.to_datetime(self.df_stamp.date)\n",
    "        self.data_stamp =  get_date_repr(self.df_stamp, 'h')\n",
    "        \n",
    "        data_vals = df_data #.values\n",
    "        self.data_y = data_vals[border1:border2]\n",
    "        self.data_x = data_vals[border1:border2]\n",
    "        \n",
    "\n",
    "    def __getitem__(self, index):\n",
    "        s_begin = index\n",
    "        s_end = s_begin + self.seq_len\n",
    "        r_begin = s_end - self.label_len \n",
    "        r_end = r_begin + self.label_len + self.pred_len\n",
    "        \n",
    "        #print(self.data_stamp)\n",
    "        seq_x = self.data_x[s_begin:s_end]\n",
    "        seq_y = self.data_y[r_begin:r_end]\n",
    "        seq_x_mark = self.data_stamp[s_begin:s_end]\n",
    "        seq_y_mark = self.data_stamp[r_begin:r_end]\n",
    "\n",
    "        return seq_x, seq_y, seq_x_mark, seq_y_mark\n",
    "    \n",
    "    def get_df(self, index):\n",
    "        df = pd.DataFrame()\n",
    "        s_begin = index\n",
    "        s_end = s_begin + self.seq_len\n",
    "        r_begin = s_end #- self.label_len \n",
    "        r_end = r_begin + self.pred_len # + self.label_len \n",
    "        df['ds'] = self.df_stamp['date'].iloc[r_begin:r_end]\n",
    "        df['y'] =  self.data_y[r_begin:r_end][:,6]\n",
    "        \n",
    "        return df\n",
    "\n",
    "    \n",
    "    def __len__(self):\n",
    "        return len(self.data_x) - self.seq_len- self.pred_len + 1"
   ]
  },
  {
   "cell_type": "code",
   "execution_count": 187,
   "metadata": {},
   "outputs": [],
   "source": [
    "class UnivarDataset(Dataset): \n",
    "    def __init__(self, data, freq, flag=0):\n",
    "        self.seq_len = seq_len\n",
    "        self.label_len = label_len\n",
    "        self.pred_len = out_len\n",
    "        self.flag = flag\n",
    "        self.data = data\n",
    "        self.freq = freq\n",
    "        l = len(data)\n",
    "        start_of_train = int(l*0.8)\n",
    "        end_of_train = int(l*0.9) \n",
    "        \n",
    "        border1s = [0, start_of_train - self.seq_len, end_of_train - self.seq_len ]\n",
    "        border2s = [start_of_train, end_of_train, l]\n",
    "        \n",
    "        border1 = border1s[self.flag]\n",
    "        border2 = border2s[self.flag]\n",
    "        \n",
    "        cols_data = self.data.columns[1:]\n",
    "        df_data = self.data[cols_data]\n",
    "        \n",
    "        self.df_stamp = self.data[['ds']][border1:border2]\n",
    "        self.df_stamp['date'] = pd.to_datetime(self.df_stamp.ds)\n",
    "        self.data_stamp =  get_date_repr(self.df_stamp, self.freq)           \n",
    "        data_vals = df_data.values\n",
    "        self.data_y = data_vals[border1:border2]\n",
    "        self.data_x = data_vals[border1:border2]\n",
    "        \n",
    "\n",
    "    def __getitem__(self, index):\n",
    "        s_begin = index\n",
    "        s_end = s_begin + self.seq_len\n",
    "        r_begin = s_end - self.label_len \n",
    "        r_end = r_begin + self.label_len + self.pred_len\n",
    "\n",
    "        seq_x = self.data_x[s_begin:s_end]\n",
    "        seq_y = self.data_y[r_begin:r_end]\n",
    "        seq_x_mark = self.data_stamp[s_begin:s_end]\n",
    "        seq_y_mark = self.data_stamp[r_begin:r_end]\n",
    "\n",
    "        return seq_x, seq_y, seq_x_mark, seq_y_mark\n",
    "    \n",
    "    def get_df(self, index):\n",
    "    \n",
    "        df = pd.DataFrame()\n",
    "        s_begin = index\n",
    "        s_end = s_begin + self.seq_len\n",
    "        r_begin = s_end #- self.label_len \n",
    "        r_end = r_begin + self.pred_len # + self.label_len \n",
    "        df['ds'] = self.df_stamp['ds'].iloc[r_begin:r_end]\n",
    "        df['y'] =  self.data_y[r_begin:r_end]\n",
    "        \n",
    "        return df\n",
    "\n",
    "    \n",
    "    def __len__(self):\n",
    "        return len(self.data_x) - self.seq_len- self.pred_len + 1"
   ]
  },
  {
   "cell_type": "markdown",
   "metadata": {},
   "source": [
    "## Model classes"
   ]
  },
  {
   "cell_type": "markdown",
   "metadata": {},
   "source": [
    "### Embedding"
   ]
  },
  {
   "cell_type": "code",
   "execution_count": 184,
   "metadata": {},
   "outputs": [],
   "source": [
    "class FixedEmbedder(nn.Module):\n",
    "    def __init__(self, c_in, d_model):\n",
    "        super(FixedEmbedder, self).__init__()\n",
    "        \n",
    "        w = torch.zeros(c_in, d_model).float()\n",
    "        w.require_grad = False\n",
    "\n",
    "        position = torch.arange(0, c_in).float().unsqueeze(1)\n",
    "        div_term = (torch.arange(0, d_model, 2).float() * -(math.log(10000.0) / d_model)).exp()\n",
    "\n",
    "        w[:, 0::2] = torch.sin(position * div_term)\n",
    "        w[:, 1::2] = torch.cos(position * div_term)\n",
    "\n",
    "        self.emb = nn.Embedding(c_in, d_model)\n",
    "        self.emb.weight = nn.Parameter(w, requires_grad=False)\n",
    "\n",
    "    def forward(self, x):\n",
    "        return self.emb(x).detach()\n",
    "\n",
    "class Embedder(nn.Module):\n",
    "    def __init__(self, c_in, d_model, freq='h', dropout=0.1):\n",
    "        super(Embedder, self).__init__()\n",
    "        self.d_model = d_model\n",
    "        self.c_in = c_in\n",
    "        self.freq = freq\n",
    "        self.dropout = nn.Dropout(p=dropout)\n",
    "        self.conv1 = nn.Conv1d(in_channels=self.c_in, out_channels=self.d_model, kernel_size=3, padding=1, padding_mode='circular')\n",
    "        minute_size = 4\n",
    "        hour_size = 24\n",
    "        weekday_size = 7\n",
    "        day_size = 32\n",
    "        month_size = 13\n",
    "        if self.freq == 'h':\n",
    "            self.hour_embed = FixedEmbedder(hour_size, d_model)\n",
    "        self.weekday_embed = FixedEmbedder(weekday_size, d_model)\n",
    "        self.day_embed = FixedEmbedder(day_size, d_model)\n",
    "        self.month_embed = FixedEmbedder(month_size, d_model)\n",
    "        \n",
    "    def forward(self, x, x_mark):\n",
    "        # value\n",
    "        value_embedding = self.conv1(x.permute(0, 2, 1)).transpose(1,2)\n",
    "        \n",
    "        # position\n",
    "        max_len=10000\n",
    "        temp = torch.zeros(max_len, self.d_model).float()\n",
    "        temp.require_grad = False\n",
    "        position = torch.arange(0, max_len).float().unsqueeze(1)\n",
    "        div_term = (torch.arange(0, self.d_model, 2).float() * -(math.log(10000.0) / self.d_model)).exp()\n",
    "        temp[:, 0::2] = torch.sin(position * div_term)\n",
    "        temp[:, 1::2] = torch.cos(position * div_term)\n",
    "        temp = temp.unsqueeze(0)\n",
    "        position_embedding = temp[:, :x.size(1)]\n",
    "       \n",
    "        # timestamp\n",
    "        x1 = x_mark.long()\n",
    "        if self.freq == 'h':\n",
    "            hour_x = self.hour_embed(x1[:,:,3])\n",
    "        else:\n",
    "            hour_x = 0\n",
    "        if self.freq == 'h' or self.freq == 'd':\n",
    "            day_x = self.day_embed(x1[:,:,1])\n",
    "            month_x = self.month_embed(x1[:,:,0])\n",
    "            weekday_x = self.weekday_embed(x1[:,:,2])\n",
    "        else:\n",
    "            month_x = self.day_embed(x1[:,:,1])\n",
    "            weekday_x = 0\n",
    "            day_x = 0\n",
    "        \n",
    "        temporal_embedding = hour_x + weekday_x + day_x + month_x\n",
    "        \n",
    "        device = get_device()\n",
    "        \n",
    "        x = value_embedding + temporal_embedding + position_embedding.to(device) \n",
    "        \n",
    "        return self.dropout(x)"
   ]
  },
  {
   "cell_type": "markdown",
   "metadata": {},
   "source": [
    "### Attention"
   ]
  },
  {
   "cell_type": "code",
   "execution_count": 147,
   "metadata": {},
   "outputs": [],
   "source": [
    "class TriangularCausalMask():\n",
    "    def __init__(self, B, L, device=\"cpu\"):\n",
    "        mask_shape = [B, 1, L, L]\n",
    "        with torch.no_grad():\n",
    "            self._mask = torch.triu(torch.ones(mask_shape, dtype=torch.bool), diagonal=1).to(device)\n",
    "\n",
    "    @property\n",
    "    def mask(self):\n",
    "        return self._mask"
   ]
  },
  {
   "cell_type": "code",
   "execution_count": 148,
   "metadata": {},
   "outputs": [],
   "source": [
    "class FullAttention(nn.Module):\n",
    "    def __init__(self, mask_flag=True, factor=5, scale=None, attention_dropout=0.1, output_attention=False):\n",
    "        super(FullAttention, self).__init__()\n",
    "        self.scale = scale\n",
    "        self.mask_flag = mask_flag\n",
    "        self.output_attention = output_attention\n",
    "        self.dropout = nn.Dropout(attention_dropout)\n",
    "        \n",
    "    def forward(self, queries, keys, values, attn_mask):\n",
    "        B, L, H, E = queries.shape\n",
    "        _, S, _, D = values.shape\n",
    "        scale = self.scale or 1./sqrt(E)\n",
    "\n",
    "        scores = torch.einsum(\"blhe,bshe->bhls\", queries, keys)\n",
    "        if self.mask_flag:\n",
    "            if attn_mask is None:\n",
    "                attn_mask = TriangularCausalMask(B, L, device=queries.device)\n",
    "\n",
    "            scores.masked_fill_(attn_mask.mask, -np.inf)\n",
    "\n",
    "        A = self.dropout(torch.softmax(scale * scores, dim=-1))\n",
    "        V = torch.einsum(\"bhls,bshd->blhd\", A, values)\n",
    "        \n",
    "        if self.output_attention:\n",
    "            return (V.contiguous(), A)\n",
    "        else:\n",
    "            return (V.contiguous(), None)\n",
    "        \n",
    "class AttentionLayer(nn.Module):\n",
    "    def __init__(self, attention, d_model, n_heads, d_keys=None,\n",
    "                 d_values=None):\n",
    "        super(AttentionLayer, self).__init__()\n",
    "\n",
    "        d_keys = d_keys or (d_model//n_heads)\n",
    "        d_values = d_values or (d_model//n_heads)\n",
    "\n",
    "        self.inner_attention = attention\n",
    "        self.query_projection = nn.Linear(d_model, d_keys * n_heads)\n",
    "        self.key_projection = nn.Linear(d_model, d_keys * n_heads)\n",
    "        self.value_projection = nn.Linear(d_model, d_values * n_heads)\n",
    "        self.out_projection = nn.Linear(d_values * n_heads, d_model)\n",
    "        self.n_heads = n_heads\n",
    "\n",
    "    def forward(self, queries, keys, values, attn_mask):\n",
    "        B, L, _ = queries.shape\n",
    "        _, S, _ = keys.shape\n",
    "        H = self.n_heads\n",
    "\n",
    "        queries = self.query_projection(queries).view(B, L, H, -1)\n",
    "        keys = self.key_projection(keys).view(B, S, H, -1)\n",
    "        values = self.value_projection(values).view(B, S, H, -1)\n",
    "\n",
    "        out, attn = self.inner_attention(\n",
    "            queries,\n",
    "            keys,\n",
    "            values,\n",
    "            attn_mask\n",
    "        )\n",
    "        out = out.view(B, L, -1)\n",
    "\n",
    "        return self.out_projection(out), attn"
   ]
  },
  {
   "cell_type": "code",
   "execution_count": 149,
   "metadata": {},
   "outputs": [],
   "source": [
    "class ProbMask():\n",
    "    def __init__(self, B, H, L, index, scores, device=\"cpu\"):\n",
    "        _mask = torch.ones(L, scores.shape[-1], dtype=torch.bool).to(device).triu(1)\n",
    "        _mask_ex = _mask[None, None, :].expand(B, H, L, scores.shape[-1])\n",
    "        indicator = _mask_ex[torch.arange(B)[:, None, None],\n",
    "                             torch.arange(H)[None, :, None],\n",
    "                             index, :].to(device)\n",
    "        self._mask = indicator.view(scores.shape).to(device)\n",
    "    \n",
    "    @property\n",
    "    def mask(self):\n",
    "        return self._mask\n",
    "    \n",
    "class ProbAttention(nn.Module):\n",
    "    def __init__(self, mask_flag=True, factor=5, scale=None, attention_dropout=0.1, output_attention=False):\n",
    "        super(ProbAttention, self).__init__()\n",
    "        self.factor = factor\n",
    "        self.scale = scale\n",
    "        self.mask_flag = mask_flag\n",
    "        self.output_attention = output_attention\n",
    "        self.dropout = nn.Dropout(attention_dropout)\n",
    "        \n",
    "    def _prob_QK(self, Q, K, sample_k, n_top): # n_top: c*ln(L_q)\n",
    "        # Q [B, H, L, D]\n",
    "        B, H, L_K, E = K.shape\n",
    "        _, _, L_Q, _ = Q.shape\n",
    "\n",
    "        # calculate the sampled Q_K\n",
    "        K_expand = K.unsqueeze(-3).expand(B, H, L_Q, L_K, E)\n",
    "        index_sample = torch.randint(L_K, (L_Q, sample_k)) # real U = U_part(factor*ln(L_k))*L_q\n",
    "        K_sample = K_expand[:, :, torch.arange(L_Q).unsqueeze(1), index_sample, :]\n",
    "        Q_K_sample = torch.matmul(Q.unsqueeze(-2), K_sample.transpose(-2, -1)).squeeze()\n",
    "\n",
    "        # find the Top_k query with sparisty measurement\n",
    "        M = Q_K_sample.max(-1)[0] - torch.div(Q_K_sample.sum(-1), L_K)\n",
    "        M_top = M.topk(n_top, sorted=False)[1]\n",
    "\n",
    "        # use the reduced Q to calculate Q_K\n",
    "        Q_reduce = Q[torch.arange(B)[:, None, None],\n",
    "                     torch.arange(H)[None, :, None],\n",
    "                     M_top, :] # factor*ln(L_q)\n",
    "        Q_K = torch.matmul(Q_reduce, K.transpose(-2, -1)) # factor*ln(L_q)*L_k\n",
    "\n",
    "        return Q_K, M_top\n",
    "\n",
    "    \n",
    "    def _get_initial_context(self, V, L_Q):\n",
    "        B, H, L_V, D = V.shape\n",
    "        if not self.mask_flag:\n",
    "            # V_sum = V.sum(dim=-2)\n",
    "            V_sum = V.mean(dim=-2)\n",
    "            contex = V_sum.unsqueeze(-2).expand(B, H, L_Q, V_sum.shape[-1]).clone()\n",
    "        else: # use mask\n",
    "            assert(L_Q == L_V) # requires that L_Q == L_V, i.e. for self-attention only\n",
    "            contex = V.cumsum(dim=-2)\n",
    "        return contex\n",
    "    \n",
    "    \n",
    "    def _update_context(self, context_in, V, scores, index, L_Q, attn_mask):\n",
    "        B, H, L_V, D = V.shape\n",
    "\n",
    "        if self.mask_flag:\n",
    "            attn_mask = ProbMask(B, H, L_Q, index, scores, device=V.device)\n",
    "            scores.masked_fill_(attn_mask.mask, -np.inf)\n",
    "\n",
    "        attn = torch.softmax(scores, dim=-1) # nn.Softmax(dim=-1)(scores)\n",
    "\n",
    "        context_in[torch.arange(B)[:, None, None],\n",
    "                   torch.arange(H)[None, :, None],\n",
    "                   index, :] = torch.matmul(attn, V).type_as(context_in)\n",
    "        if self.output_attention:\n",
    "            attns = (torch.ones([B, H, L_V, L_V])/L_V).type_as(attn).to(attn.device)\n",
    "            attns[torch.arange(B)[:, None, None], torch.arange(H)[None, :, None], index, :] = attn\n",
    "            return (context_in, attns)\n",
    "        else:\n",
    "            return (context_in, None)\n",
    "        \n",
    "    def forward(self, queries, keys, values, attn_mask):\n",
    "        B, L_Q, H, D = queries.shape\n",
    "        _, L_K, _, _ = keys.shape\n",
    "\n",
    "        queries = queries.transpose(2,1)\n",
    "        keys = keys.transpose(2,1)\n",
    "        values = values.transpose(2,1)\n",
    "\n",
    "        U_part = self.factor * np.ceil(np.log(L_K)).astype('int').item() # c*ln(L_k)\n",
    "        u = self.factor * np.ceil(np.log(L_Q)).astype('int').item() # c*ln(L_q) \n",
    "\n",
    "        U_part = U_part if U_part<L_K else L_K\n",
    "        u = u if u<L_Q else L_Q\n",
    "        \n",
    "        scores_top, index = self._prob_QK(queries, keys, sample_k=U_part, n_top=u) \n",
    "\n",
    "        # add scale factor\n",
    "        scale = self.scale or 1./sqrt(D)\n",
    "        if scale is not None:\n",
    "            scores_top = scores_top * scale\n",
    "        # get the context\n",
    "        context = self._get_initial_context(values, L_Q)\n",
    "        # update the context with selected top_k queries\n",
    "        context, attn = self._update_context(context, values, scores_top, index, L_Q, attn_mask)\n",
    "        \n",
    "        return context.contiguous(), attn\n",
    "    "
   ]
  },
  {
   "cell_type": "markdown",
   "metadata": {},
   "source": [
    "### Layers "
   ]
  },
  {
   "cell_type": "code",
   "execution_count": 150,
   "metadata": {},
   "outputs": [],
   "source": [
    "class ConvLayer(nn.Module):\n",
    "    def __init__(self, c_in):\n",
    "        super(ConvLayer, self).__init__()\n",
    "        self.downConv = nn.Conv1d(in_channels=c_in,\n",
    "                                  out_channels=c_in,\n",
    "                                  kernel_size=3,\n",
    "                                  padding=2,\n",
    "                                  padding_mode='circular')\n",
    "        self.norm = nn.BatchNorm1d(c_in)\n",
    "        self.activation = nn.ELU()\n",
    "        self.maxPool = nn.MaxPool1d(kernel_size=3, stride=2, padding=1)\n",
    "\n",
    "    def forward(self, x):\n",
    "        x = self.downConv(x.permute(0, 2, 1))\n",
    "        x = self.norm(x)\n",
    "        x = self.activation(x)\n",
    "        x = self.maxPool(x)\n",
    "        x = x.transpose(1,2)\n",
    "        return x\n",
    "\n",
    "class EncoderLayer(nn.Module):\n",
    "    def __init__(self, attention, d_model, d_ff=None, dropout=0.1, activation=\"relu\"):\n",
    "        super(EncoderLayer, self).__init__()\n",
    "        d_ff = d_ff or 4*d_model\n",
    "        self.attention = attention\n",
    "        self.conv1 = nn.Conv1d(in_channels=d_model, out_channels=d_ff, kernel_size=1)\n",
    "        self.conv2 = nn.Conv1d(in_channels=d_ff, out_channels=d_model, kernel_size=1)\n",
    "        self.norm1 = nn.LayerNorm(d_model)\n",
    "        self.norm2 = nn.LayerNorm(d_model)\n",
    "        self.dropout = nn.Dropout(dropout)\n",
    "        self.activation = F.relu if activation == \"relu\" else F.gelu\n",
    "\n",
    "    def forward(self, x, attn_mask=None):\n",
    "        # x [B, L, D]\n",
    "        # x = x + self.dropout(self.attention(\n",
    "        #     x, x, x,\n",
    "        #     attn_mask = attn_mask\n",
    "        # ))\n",
    "        new_x, attn = self.attention(\n",
    "            x, x, x,\n",
    "            attn_mask = attn_mask\n",
    "        )\n",
    "        x = x + self.dropout(new_x)\n",
    "\n",
    "        y = x = self.norm1(x)\n",
    "        y = self.dropout(self.activation(self.conv1(y.transpose(-1,1))))\n",
    "        y = self.dropout(self.conv2(y).transpose(-1,1))\n",
    "\n",
    "        return self.norm2(x+y), attn\n",
    "\n",
    "class Encoder(nn.Module):\n",
    "    def __init__(self, attn_layers, conv_layers=None, norm_layer=None):\n",
    "        super(Encoder, self).__init__()\n",
    "        self.attn_layers = nn.ModuleList(attn_layers)\n",
    "        self.conv_layers = nn.ModuleList(conv_layers) if conv_layers is not None else None\n",
    "        self.norm = norm_layer\n",
    "\n",
    "    def forward(self, x, attn_mask=None):\n",
    "        attns = []\n",
    "        if self.conv_layers is not None:\n",
    "            for attn_layer, conv_layer in zip(self.attn_layers, self.conv_layers):\n",
    "                x, attn = attn_layer(x, attn_mask=attn_mask)\n",
    "                x = conv_layer(x)\n",
    "                attns.append(attn)\n",
    "            x, attn = self.attn_layers[-1](x)\n",
    "            attns.append(attn)\n",
    "        else:\n",
    "            for attn_layer in self.attn_layers:\n",
    "                x, attn = attn_layer(x, attn_mask=attn_mask)\n",
    "                attns.append(attn)\n",
    "\n",
    "        if self.norm is not None:\n",
    "            x = self.norm(x)\n",
    "\n",
    "        return x, attns\n"
   ]
  },
  {
   "cell_type": "code",
   "execution_count": 151,
   "metadata": {},
   "outputs": [],
   "source": [
    "class DecoderLayer(nn.Module):\n",
    "    def __init__(self, self_attention, cross_attention, d_model, d_ff=None,\n",
    "                 dropout=0.1, activation=\"relu\"):\n",
    "        super(DecoderLayer, self).__init__()\n",
    "        d_ff = d_ff or 4*d_model\n",
    "        self.self_attention = self_attention\n",
    "        self.cross_attention = cross_attention\n",
    "        self.conv1 = nn.Conv1d(in_channels=d_model, out_channels=d_ff, kernel_size=1)\n",
    "        self.conv2 = nn.Conv1d(in_channels=d_ff, out_channels=d_model, kernel_size=1)\n",
    "        self.norm1 = nn.LayerNorm(d_model)\n",
    "        self.norm2 = nn.LayerNorm(d_model)\n",
    "        self.norm3 = nn.LayerNorm(d_model)\n",
    "        self.dropout = nn.Dropout(dropout)\n",
    "        self.activation = F.relu if activation == \"relu\" else F.gelu\n",
    "\n",
    "    def forward(self, x, cross, x_mask=None, cross_mask=None):\n",
    "        x = x + self.dropout(self.self_attention(\n",
    "            x, x, x,\n",
    "            attn_mask=x_mask\n",
    "        )[0])\n",
    "        x = self.norm1(x)\n",
    "\n",
    "        x = x + self.dropout(self.cross_attention(\n",
    "            x, cross, cross,\n",
    "            attn_mask=cross_mask\n",
    "        )[0])\n",
    "\n",
    "        y = x = self.norm2(x)\n",
    "        y = self.dropout(self.activation(self.conv1(y.transpose(-1,1))))\n",
    "        y = self.dropout(self.conv2(y).transpose(-1,1))\n",
    "\n",
    "        return self.norm3(x+y)\n",
    "\n",
    "class Decoder(nn.Module):\n",
    "    def __init__(self, layers, norm_layer=None):\n",
    "        super(Decoder, self).__init__()\n",
    "        self.layers = nn.ModuleList(layers)\n",
    "        self.norm = norm_layer\n",
    "\n",
    "    def forward(self, x, cross, x_mask=None, cross_mask=None):\n",
    "        for layer in self.layers:\n",
    "            x = layer(x, cross, x_mask=x_mask, cross_mask=cross_mask)\n",
    "\n",
    "        if self.norm is not None:\n",
    "            x = self.norm(x)\n",
    "\n",
    "        return x"
   ]
  },
  {
   "cell_type": "code",
   "execution_count": 152,
   "metadata": {},
   "outputs": [],
   "source": [
    "class Informer(nn.Module):\n",
    "    \"\"\"Informer model from paper: https://arxiv.org/pdf/2012.07436.pdf\"\"\"\n",
    "    def __init__(self, enc_in, dec_in, c_out, seq_len, label_len, out_len, \n",
    "                factor=5, d_model=512, n_heads=8, e_layers=2, d_layers=1, d_ff=2048, \n",
    "                dropout=0.05, attn='prob', embed='fixed', freq='h', activation='gelu', \n",
    "                output_attention = False, distil=True):\n",
    "        super(Informer, self).__init__()\n",
    "        self.pred_len = out_len\n",
    "        self.attn = attn\n",
    "        self.output_attention = output_attention\n",
    "        \n",
    "        self.enc_embedding = Embedder(enc_in, d_model, freq, dropout)\n",
    "        self.dec_embedding = Embedder(dec_in, d_model, freq, dropout)\n",
    "        \n",
    "        Attn = ProbAttention if attn=='prob' else FullAttention\n",
    "        self.encoder = Encoder(\n",
    "            [\n",
    "                EncoderLayer(\n",
    "                    AttentionLayer(Attn(False, factor, attention_dropout=dropout, output_attention=output_attention), \n",
    "                                d_model, n_heads),  \n",
    "                    d_model,\n",
    "                    d_ff,\n",
    "                    dropout=dropout,\n",
    "                    activation=activation\n",
    "                ) for l in range(e_layers)\n",
    "            ],\n",
    "            [\n",
    "                ConvLayer(\n",
    "                    d_model\n",
    "                ) for l in range(e_layers-1)\n",
    "            ] if distil else None,\n",
    "            norm_layer=torch.nn.LayerNorm(d_model)\n",
    "        )\n",
    "        # Decoder\n",
    "        self.decoder = Decoder(\n",
    "            [\n",
    "                DecoderLayer(\n",
    "                    AttentionLayer(Attn(True, factor, attention_dropout=dropout, output_attention=False), \n",
    "                                d_model, n_heads),\n",
    "                    AttentionLayer(FullAttention(False, factor, attention_dropout=dropout, output_attention=False), \n",
    "                                d_model, n_heads),\n",
    "                    d_model,\n",
    "                    d_ff,\n",
    "                    dropout=dropout,\n",
    "                    activation=activation,\n",
    "                )\n",
    "                for l in range(d_layers)\n",
    "            ],\n",
    "            norm_layer=torch.nn.LayerNorm(d_model)\n",
    "        )\n",
    "        self.projection = nn.Linear(d_model, c_out, bias=True)\n",
    "        \n",
    "    def forward(self, x_enc, x_mark_enc, x_dec, x_mark_dec, \n",
    "                enc_self_mask=None, dec_self_mask=None, dec_enc_mask=None):\n",
    "        enc_out = self.enc_embedding(x_enc, x_mark_enc)\n",
    "        enc_out, attns = self.encoder(enc_out, attn_mask=enc_self_mask)\n",
    "\n",
    "        dec_out = self.dec_embedding(x_dec, x_mark_dec)\n",
    "        dec_out = self.decoder(dec_out, enc_out, x_mask=dec_self_mask, cross_mask=dec_enc_mask)\n",
    "        dec_out = self.projection(dec_out)\n",
    "        return dec_out[:,-self.pred_len:,:] # [B, L, D]\n",
    "\n",
    "    \n",
    "    \n",
    "    "
   ]
  },
  {
   "cell_type": "markdown",
   "metadata": {},
   "source": [
    "## Train, validate, test, predict"
   ]
  },
  {
   "cell_type": "code",
   "execution_count": 153,
   "metadata": {},
   "outputs": [],
   "source": [
    "def vali(model, vali_loader, criterion,  predict_for, label_length):\n",
    "    model.eval()\n",
    "    device = get_device()\n",
    "    total_loss = []\n",
    "    for i, (batch_x,batch_y,batch_x_mark,batch_y_mark) in enumerate(vali_loader):\n",
    "        batch_x = batch_x.float().to(device)\n",
    "        batch_y = batch_y.float()\n",
    "\n",
    "        batch_x_mark = batch_x_mark.float().to(device)\n",
    "        batch_y_mark = batch_y_mark.float().to(device)\n",
    "\n",
    "        # decoder\n",
    "        dec_inp = torch.zeros_like(batch_y[:,-predict_for:,:]).float()\n",
    "        dec_inp = torch.cat([batch_y[:,:label_length,:], dec_inp], dim=1).float().to(device)\n",
    "       \n",
    "        outputs = model(batch_x, batch_x_mark, dec_inp, batch_y_mark)\n",
    "        \n",
    "        f_dim = 0\n",
    "        batch_y = batch_y[:,-predict_for:,f_dim:].to(device)\n",
    "\n",
    "        pred = outputs.detach().cpu()\n",
    "        true = batch_y.detach().cpu()\n",
    "\n",
    "        loss = criterion(pred, true) \n",
    "\n",
    "        total_loss.append(loss)\n",
    "    total_loss = np.average(total_loss)\n",
    "    model.train()\n",
    "    return total_loss"
   ]
  },
  {
   "cell_type": "code",
   "execution_count": 154,
   "metadata": {},
   "outputs": [],
   "source": [
    "def adjust_learning_rate(optimizer, epoch, learning_rate):\n",
    "    lr_adjust = {epoch: learning_rate * (0.5 ** ((epoch-1) // 1))}\n",
    "    if epoch in lr_adjust.keys():\n",
    "        lr = lr_adjust[epoch]\n",
    "        for param_group in optimizer.param_groups:\n",
    "            param_group['lr'] = lr\n",
    "        print('Updating learning rate to {}'.format(lr))\n",
    "        \n",
    "def train(model, train_loader, vali_loader, epochs, predict_for, label_length, batch_size, learning_rate): # no amp yet \n",
    "    opt_f = optim.Adam(model.parameters(), lr=learning_rate)\n",
    "    crit_f = nn.MSELoss()\n",
    "    device = get_device()\n",
    "    train_steps = len(train_loader)\n",
    "    early_stopping = EarlyStopping(patience=patience, verbose=True)\n",
    "    time_now = time.time()\n",
    "    for epoch in range(epochs):\n",
    "        iter_count = 0\n",
    "        epoch_time = time.time()\n",
    "        train_loss = []\n",
    "        model.train() #sets flag but why?\n",
    "        for i, (batch_x,batch_y,batch_x_mark,batch_y_mark) in enumerate(train_loader):\n",
    "            opt_f.zero_grad()\n",
    "            # load to gpu\n",
    "            batch_x = batch_x.float().to(device)\n",
    "            batch_y = batch_y.float()\n",
    "            batch_x_mark = batch_x_mark.float().to(device)\n",
    "            batch_y_mark = batch_y_mark.float().to(device)\n",
    "            \n",
    "            dec_inp = torch.zeros_like(batch_y[:,-predict_for:,:]).float()\n",
    "            dec_inp = torch.cat([batch_y[:,:label_length,:], dec_inp], dim=1).float().to(device)\n",
    "            \n",
    "            outputs = model(batch_x, batch_x_mark, dec_inp, batch_y_mark)\n",
    "            \n",
    "            f_dim = 0\n",
    "            batch_y = batch_y[:,-predict_for:,f_dim:].to(device)\n",
    "            loss = crit_f(outputs, batch_y)\n",
    "            train_loss.append(loss.item())\n",
    "            \n",
    "            loss.backward()\n",
    "            opt_f.step()\n",
    "        print(\"Epoch: {} cost time: {}\".format(epoch+1, time.time()-epoch_time))\n",
    "        train_loss = np.average(train_loss)\n",
    "        vali_loss = vali(model, vali_loader, crit_f,  predict_for, label_length)\n",
    "        print(f'train loss: {train_loss}, vali loss: {vali_loss}')\n",
    "        adjust_learning_rate(opt_f, epoch+1, learning_rate)\n",
    "        early_stopping(vali_loss, model)\n",
    "        if early_stopping.early_stop:\n",
    "            print(\"Early stopping\")\n",
    "            break\n",
    "       "
   ]
  },
  {
   "cell_type": "code",
   "execution_count": 155,
   "metadata": {},
   "outputs": [],
   "source": [
    "def test(model, test_loader, predict_for, label_length):\n",
    "    #test_data, test_loader = self._get_data(flag='test')\n",
    "\n",
    "    model.eval()\n",
    "    device = get_device()\n",
    "    preds = []\n",
    "    trues = []\n",
    "\n",
    "    for i, (batch_x,batch_y,batch_x_mark,batch_y_mark) in enumerate(test_loader):\n",
    "        batch_x = batch_x.float().to(device)\n",
    "        batch_y = batch_y.float()\n",
    "        batch_x_mark = batch_x_mark.float().to(device)\n",
    "        batch_y_mark = batch_y_mark.float().to(device)\n",
    "\n",
    "        # decoder\n",
    "        dec_inp = torch.zeros_like(batch_y[:,-predict_for:,:]).float()\n",
    "        dec_inp = torch.cat([batch_y[:,:label_length,:], dec_inp], dim=1).float().to(device)\n",
    "        outputs = model(batch_x, batch_x_mark, dec_inp, batch_y_mark)\n",
    "        \n",
    "        f_dim = 0\n",
    "        batch_y = batch_y[:,-predict_for:,f_dim:].to(device)\n",
    "\n",
    "        pred = outputs.detach().cpu().numpy() \n",
    "        true = batch_y.detach().cpu().numpy() \n",
    "\n",
    "        preds.append(pred)\n",
    "        trues.append(true)\n",
    "\n",
    "    preds = np.array(preds)\n",
    "    trues = np.array(trues)\n",
    "    print('test shape:', preds.shape, trues.shape)\n",
    "    preds = preds.reshape(-1, preds.shape[-2], preds.shape[-1])\n",
    "    trues = trues.reshape(-1, trues.shape[-2], trues.shape[-1])\n",
    "    print('test shape:', preds.shape, trues.shape)\n",
    "\n",
    "    mae, mse, rmse, mape, mspe = metric(preds, trues)\n",
    "    print('mse:{}, mae:{}'.format(mse, mae))\n",
    "    \n",
    "    return preds, trues "
   ]
  },
  {
   "cell_type": "markdown",
   "metadata": {},
   "source": [
    "## Prepare data (ETTh1)"
   ]
  },
  {
   "cell_type": "markdown",
   "metadata": {},
   "source": [
    "### run & paramters"
   ]
  },
  {
   "cell_type": "code",
   "execution_count": 138,
   "metadata": {},
   "outputs": [],
   "source": [
    "# load\n",
    "data = pd.read_csv('data/ETTh1.csv')"
   ]
  },
  {
   "cell_type": "code",
   "execution_count": 139,
   "metadata": {},
   "outputs": [
    {
     "name": "stdout",
     "output_type": "stream",
     "text": [
      "dataset length:  17420\n"
     ]
    },
    {
     "data": {
      "text/html": [
       "<div>\n",
       "<style scoped>\n",
       "    .dataframe tbody tr th:only-of-type {\n",
       "        vertical-align: middle;\n",
       "    }\n",
       "\n",
       "    .dataframe tbody tr th {\n",
       "        vertical-align: top;\n",
       "    }\n",
       "\n",
       "    .dataframe thead th {\n",
       "        text-align: right;\n",
       "    }\n",
       "</style>\n",
       "<table border=\"1\" class=\"dataframe\">\n",
       "  <thead>\n",
       "    <tr style=\"text-align: right;\">\n",
       "      <th></th>\n",
       "      <th>date</th>\n",
       "      <th>HUFL</th>\n",
       "      <th>HULL</th>\n",
       "      <th>MUFL</th>\n",
       "      <th>MULL</th>\n",
       "      <th>LUFL</th>\n",
       "      <th>LULL</th>\n",
       "      <th>OT</th>\n",
       "    </tr>\n",
       "  </thead>\n",
       "  <tbody>\n",
       "    <tr>\n",
       "      <th>0</th>\n",
       "      <td>2016-07-01 00:00:00</td>\n",
       "      <td>5.827</td>\n",
       "      <td>2.009</td>\n",
       "      <td>1.599</td>\n",
       "      <td>0.462</td>\n",
       "      <td>4.203</td>\n",
       "      <td>1.340</td>\n",
       "      <td>30.531000</td>\n",
       "    </tr>\n",
       "    <tr>\n",
       "      <th>1</th>\n",
       "      <td>2016-07-01 01:00:00</td>\n",
       "      <td>5.693</td>\n",
       "      <td>2.076</td>\n",
       "      <td>1.492</td>\n",
       "      <td>0.426</td>\n",
       "      <td>4.142</td>\n",
       "      <td>1.371</td>\n",
       "      <td>27.787001</td>\n",
       "    </tr>\n",
       "    <tr>\n",
       "      <th>2</th>\n",
       "      <td>2016-07-01 02:00:00</td>\n",
       "      <td>5.157</td>\n",
       "      <td>1.741</td>\n",
       "      <td>1.279</td>\n",
       "      <td>0.355</td>\n",
       "      <td>3.777</td>\n",
       "      <td>1.218</td>\n",
       "      <td>27.787001</td>\n",
       "    </tr>\n",
       "  </tbody>\n",
       "</table>\n",
       "</div>"
      ],
      "text/plain": [
       "                  date   HUFL   HULL   MUFL   MULL   LUFL   LULL         OT\n",
       "0  2016-07-01 00:00:00  5.827  2.009  1.599  0.462  4.203  1.340  30.531000\n",
       "1  2016-07-01 01:00:00  5.693  2.076  1.492  0.426  4.142  1.371  27.787001\n",
       "2  2016-07-01 02:00:00  5.157  1.741  1.279  0.355  3.777  1.218  27.787001"
      ]
     },
     "execution_count": 139,
     "metadata": {},
     "output_type": "execute_result"
    }
   ],
   "source": [
    "print('dataset length: ',len(data))\n",
    "data.head(3)"
   ]
  },
  {
   "cell_type": "code",
   "execution_count": 24,
   "metadata": {},
   "outputs": [],
   "source": [
    "enc_in=7 # encoder embedder input length\n",
    "dec_in=7 # decoder embedder input length\n",
    "c_out=7 # output length\n",
    "seq_len=96 # length of Informer encoder\n",
    "label_len=48 # start token length of Informer decoder\n",
    "out_len=60 # prediction length\n",
    "\n",
    "attn = 'prob' # full or prob [type of attention layer]\n",
    "epochs = 6 # number of epochs\n",
    "learning_rate = 0.0001 # initial learning rate\n",
    "batch_size = 32\n",
    "dropout = 0.05 # dropout proportion\n",
    "d_model = 512 # dimesnsion of model\n",
    "n_heads = 8 # number of heads\n",
    "e_layers = 2 # num of encoder layers\n",
    "d_layers = 1 # num of decoder layers\n",
    "d_ff = 2048 # dimension of fully connected nets\n",
    "factor = 5 # attention factor\n",
    "patience = 3 # early stopping patience"
   ]
  },
  {
   "cell_type": "code",
   "execution_count": 27,
   "metadata": {},
   "outputs": [
    {
     "name": "stdout",
     "output_type": "stream",
     "text": [
      "Epoch: 1 cost time: 26.30800700187683\n",
      "train loss: 0.47024753981066825, vali loss: 0.8544505834579468\n",
      "Updating learning rate to 0.0001\n",
      "Epoch: 2 cost time: 25.494305849075317\n",
      "train loss: 0.3363012279334821, vali loss: 0.7958492040634155\n",
      "Updating learning rate to 5e-05\n",
      "Epoch: 3 cost time: 25.482399225234985\n",
      "train loss: 0.2562741499422188, vali loss: 0.7718685865402222\n",
      "Updating learning rate to 2.5e-05\n",
      "Epoch: 4 cost time: 25.48557472229004\n",
      "train loss: 0.22507097056709735, vali loss: 0.7821645140647888\n",
      "Updating learning rate to 1.25e-05\n",
      "EarlyStopping counter: 1 out of 3\n",
      "Epoch: 5 cost time: 25.61804962158203\n",
      "train loss: 0.21084461680480412, vali loss: 0.7926322817802429\n",
      "Updating learning rate to 6.25e-06\n",
      "EarlyStopping counter: 2 out of 3\n",
      "Epoch: 6 cost time: 25.417743921279907\n",
      "train loss: 0.20360337724362998, vali loss: 0.7949410676956177\n",
      "Updating learning rate to 3.125e-06\n",
      "EarlyStopping counter: 3 out of 3\n",
      "Early stopping\n"
     ]
    }
   ],
   "source": [
    "device = get_device()\n",
    "m = Informer(enc_in, dec_in, c_out, seq_len, label_len, out_len, \n",
    "                factor, d_model, n_heads, e_layers, d_layers, d_ff, \n",
    "                dropout=0.05, attn='prob', embed='fixed', freq='h', activation='gelu', \n",
    "                output_attention = False, distil=True).to(device)\n",
    "train_loader = DataLoader(EttDataset(data), batch_size, shuffle=True)\n",
    "vali_loader = DataLoader(EttDataset(data, flag=1), batch_size)\n",
    "train(m,train_loader, vali_loader, epochs, out_len, label_len, batch_size, learning_rate)"
   ]
  },
  {
   "cell_type": "markdown",
   "metadata": {},
   "source": [
    "# Comparison with alternetive models"
   ]
  },
  {
   "cell_type": "markdown",
   "metadata": {},
   "source": [
    "### on ETTh1 dataset"
   ]
  },
  {
   "cell_type": "code",
   "execution_count": 672,
   "metadata": {},
   "outputs": [
    {
     "name": "stderr",
     "output_type": "stream",
     "text": [
      "INFO:fbprophet:Disabling yearly seasonality. Run prophet with yearly_seasonality=True to override this.\n"
     ]
    }
   ],
   "source": [
    "# testing on ETTh1 dataset\n",
    "test_ds = EttDataset(data, flag=2)\n",
    "s = StandardScaler() \n",
    "d1 = data[:16*30*24].rename(columns={'OT':'y'})\n",
    "d1 = d1.drop(columns=['date'])\n",
    "s.fit(d1)\n",
    "d1 = s.transform(d1)\n",
    "d1['ds'] = data['date']\n",
    "\n",
    "fb_etth1 = Prophet(uncertainty_samples=50)\n",
    "fb_etth1.fit(d1)\n",
    "\n",
    "prophet_preds = []\n",
    "for i in range(100):\n",
    "    proph_pred = fb_etth1.predict(test_ds.get_df(i))\n",
    "    prophet_preds.append(proph_pred['yhat'])"
   ]
  },
  {
   "cell_type": "code",
   "execution_count": 985,
   "metadata": {},
   "outputs": [
    {
     "name": "stdout",
     "output_type": "stream",
     "text": [
      "test shape: (2821, 1, 60, 7) (2821, 1, 60, 7)\n",
      "test shape: (2821, 60, 7) (2821, 60, 7)\n",
      "mse:0.827009379863739, mae:0.6908921003341675\n"
     ]
    }
   ],
   "source": [
    "test_loader = DataLoader(EttDataset(data, flag=2), batch_size=1, shuffle=False, drop_last=True)\n",
    "informer_preds, trues = test(m, test_loader, out_len, label_len)"
   ]
  },
  {
   "cell_type": "code",
   "execution_count": 986,
   "metadata": {},
   "outputs": [],
   "source": [
    "fb_pred1 = np.array(prophet_preds).reshape(-1, )\n",
    "inf_pred1 = informer_preds[:100][:,:,6].reshape(-1, )\n",
    "trues1 = trues[:100][:,:,6].reshape(-1, )"
   ]
  },
  {
   "cell_type": "code",
   "execution_count": 987,
   "metadata": {},
   "outputs": [
    {
     "name": "stdout",
     "output_type": "stream",
     "text": [
      "0.18969332078106804\n"
     ]
    },
    {
     "data": {
      "text/plain": [
       "0.11941"
      ]
     },
     "execution_count": 987,
     "metadata": {},
     "output_type": "execute_result"
    }
   ],
   "source": [
    "print(MSE(fb_pred1, trues1)) # facebook prophet\n",
    "MSE(inf_pred1, trues1) # informer model"
   ]
  },
  {
   "cell_type": "code",
   "execution_count": 1084,
   "metadata": {},
   "outputs": [
    {
     "data": {
      "image/png": "[encoded data removed]",
      "text/plain": [
       "<Figure size 432x288 with 1 Axes>"
      ]
     },
     "metadata": {
      "needs_background": "light"
     },
     "output_type": "display_data"
    }
   ],
   "source": [
    "plt.plot(trues1[:100], label=\"true values\");\n",
    "plt.plot(inf_pred1[:100], label=\"informer\");\n",
    "plt.plot(fb_pred1[:100], label=\"prophet\");\n",
    "plt.legend();"
   ]
  },
  {
   "cell_type": "markdown",
   "metadata": {},
   "source": [
    "## Amazon stock price dataset"
   ]
  },
  {
   "cell_type": "code",
   "execution_count": 216,
   "metadata": {},
   "outputs": [],
   "source": [
    "# source https://www.kaggle.com/praxitelisk/financial-time-series-datasets"
   ]
  },
  {
   "cell_type": "code",
   "execution_count": 35,
   "metadata": {},
   "outputs": [
    {
     "data": {
      "text/html": [
       "<div>\n",
       "<style scoped>\n",
       "    .dataframe tbody tr th:only-of-type {\n",
       "        vertical-align: middle;\n",
       "    }\n",
       "\n",
       "    .dataframe tbody tr th {\n",
       "        vertical-align: top;\n",
       "    }\n",
       "\n",
       "    .dataframe thead th {\n",
       "        text-align: right;\n",
       "    }\n",
       "</style>\n",
       "<table border=\"1\" class=\"dataframe\">\n",
       "  <thead>\n",
       "    <tr style=\"text-align: right;\">\n",
       "      <th></th>\n",
       "      <th>ds</th>\n",
       "      <th>y</th>\n",
       "    </tr>\n",
       "  </thead>\n",
       "  <tbody>\n",
       "    <tr>\n",
       "      <th>0</th>\n",
       "      <td>5/15/1997</td>\n",
       "      <td>1.958333</td>\n",
       "    </tr>\n",
       "    <tr>\n",
       "      <th>1</th>\n",
       "      <td>5/16/1997</td>\n",
       "      <td>1.729167</td>\n",
       "    </tr>\n",
       "    <tr>\n",
       "      <th>2</th>\n",
       "      <td>5/19/1997</td>\n",
       "      <td>1.708333</td>\n",
       "    </tr>\n",
       "  </tbody>\n",
       "</table>\n",
       "</div>"
      ],
      "text/plain": [
       "          ds         y\n",
       "0  5/15/1997  1.958333\n",
       "1  5/16/1997  1.729167\n",
       "2  5/19/1997  1.708333"
      ]
     },
     "execution_count": 35,
     "metadata": {},
     "output_type": "execute_result"
    }
   ],
   "source": [
    "amzn = pd.read_csv('data/AMZN.csv')\n",
    "amzn.rename(columns={'Date':'ds', 'Adj Close':'y'}, inplace=True)\n",
    "amzn.head(3)"
   ]
  },
  {
   "cell_type": "code",
   "execution_count": 36,
   "metadata": {},
   "outputs": [
    {
     "data": {
      "text/plain": [
       "5088"
      ]
     },
     "execution_count": 36,
     "metadata": {},
     "output_type": "execute_result"
    }
   ],
   "source": [
    "s = StandardScaler() \n",
    "s.fit(amzn['y'])\n",
    "amzn['y'] = s.transform(amzn['y'])\n",
    "len(amzn)"
   ]
  },
  {
   "cell_type": "code",
   "execution_count": 37,
   "metadata": {},
   "outputs": [
    {
     "data": {
      "image/png": "[encoded data removed]",
      "text/plain": [
       "<Figure size 432x288 with 1 Axes>"
      ]
     },
     "metadata": {
      "needs_background": "light"
     },
     "output_type": "display_data"
    }
   ],
   "source": [
    "plt.plot(amzn['y'])\n",
    "plt.axvline(4021, color='r')\n",
    "amzn_cut = amzn[amzn.index>4021]\n",
    "#fb1.changepoints.index[list(fb1.changepoints_t).index(fb1.changepoints_t.max())]\n",
    "#fb1 = Prophet()\n",
    "#fb1.fit(amzn_train)"
   ]
  },
  {
   "cell_type": "code",
   "execution_count": 38,
   "metadata": {},
   "outputs": [],
   "source": [
    "enc_in=1 # encoder embedder input length\n",
    "dec_in=1 # decoder embedder input length\n",
    "c_out=1 # output length\n",
    "seq_len=196 # length of Informer encoder\n",
    "label_len=48 # start token length of Informer decoder\n",
    "out_len=60 # prediction length\n",
    "\n",
    "attn = 'prob' # full or prob [type of attention layer]\n",
    "epochs = 6 # number of epochs\n",
    "learning_rate = 0.0001 # initial learning rate\n",
    "batch_size = 16\n",
    "dropout = 0.05 # dropout proportion\n",
    "d_model = 512 # dimesnsion of model\n",
    "n_heads = 8 # number of heads\n",
    "e_layers = 3 # num of encoder layers\n",
    "d_layers = 2 # num of decoder layers\n",
    "d_ff = 2048 # dimension of fully connected nets\n",
    "factor = 5 # attention factor\n",
    "freq = 'd' # frequency of a timeseries [d, h]\n",
    "patience = 3 # early stopping patience"
   ]
  },
  {
   "cell_type": "code",
   "execution_count": 39,
   "metadata": {},
   "outputs": [
    {
     "name": "stdout",
     "output_type": "stream",
     "text": [
      "Epoch: 1 cost time: 25.30019235610962\n",
      "train loss: 0.03803063544666854, vali loss: 0.14421460032463074\n",
      "Updating learning rate to 0.0001\n",
      "Epoch: 2 cost time: 26.106446027755737\n",
      "train loss: 0.013991380860506865, vali loss: 0.130536288022995\n",
      "Updating learning rate to 5e-05\n",
      "Epoch: 3 cost time: 25.637758255004883\n",
      "train loss: 0.00790975588202383, vali loss: 0.07748033106327057\n",
      "Updating learning rate to 2.5e-05\n",
      "Epoch: 4 cost time: 25.639933347702026\n",
      "train loss: 0.005743292143771028, vali loss: 0.11882911622524261\n",
      "Updating learning rate to 1.25e-05\n",
      "EarlyStopping counter: 1 out of 3\n",
      "Epoch: 5 cost time: 25.69048833847046\n",
      "train loss: 0.004871369786677438, vali loss: 0.0849965512752533\n",
      "Updating learning rate to 6.25e-06\n",
      "EarlyStopping counter: 2 out of 3\n",
      "Epoch: 6 cost time: 25.3539936542511\n",
      "train loss: 0.004598920568667945, vali loss: 0.10093750059604645\n",
      "Updating learning rate to 3.125e-06\n",
      "EarlyStopping counter: 3 out of 3\n",
      "Early stopping\n"
     ]
    }
   ],
   "source": [
    "device = get_device()\n",
    "m_amzn = Informer(enc_in, dec_in, c_out, seq_len, label_len, out_len, \n",
    "                factor, d_model, n_heads, e_layers, d_layers, d_ff, \n",
    "                dropout=0.05, attn='prob', embed='fixed', freq=freq, activation='gelu', \n",
    "                output_attention=False, distil=True).to(device)\n",
    "train_loader = DataLoader(UnivarDataset(amzn, freq='d'), batch_size, shuffle=True)\n",
    "vali_loader = DataLoader(UnivarDataset(amzn, freq='d', flag=1), batch_size)\n",
    "train(m_amzn, train_loader, vali_loader, epochs, out_len, label_len, batch_size, learning_rate)"
   ]
  },
  {
   "cell_type": "code",
   "execution_count": 235,
   "metadata": {},
   "outputs": [
    {
     "name": "stderr",
     "output_type": "stream",
     "text": [
      "INFO:fbprophet:Disabling daily seasonality. Run prophet with daily_seasonality=True to override this.\n"
     ]
    }
   ],
   "source": [
    "# testing on Amzon stockprice dataset\n",
    "test_amzn = UnivarDataset(amzn, freq='d', flag=2)\n",
    "amzn_train = amzn[:int(len(amzn)*0.9)]\n",
    "\n",
    "fb_amzn = Prophet(uncertainty_samples=50)\n",
    "fb_amzn.fit(amzn_train)\n",
    "\n",
    "prophet_preds_1 = []\n",
    "for i in range(100):\n",
    "    proph_pred = fb_amzn.predict(test_amzn.get_df(i))\n",
    "    prophet_preds_1.append(proph_pred['yhat'])"
   ]
  },
  {
   "cell_type": "code",
   "execution_count": 237,
   "metadata": {},
   "outputs": [
    {
     "data": {
      "text/plain": [
       "100"
      ]
     },
     "execution_count": 237,
     "metadata": {},
     "output_type": "execute_result"
    }
   ],
   "source": [
    "len(prophet_preds_1)"
   ]
  },
  {
   "cell_type": "code",
   "execution_count": 223,
   "metadata": {},
   "outputs": [
    {
     "name": "stdout",
     "output_type": "stream",
     "text": [
      "test shape: (450, 1, 60, 1) (450, 1, 60, 1)\n",
      "test shape: (450, 60, 1) (450, 60, 1)\n",
      "mse:3.3957302570343018, mae:1.7622854709625244\n"
     ]
    }
   ],
   "source": [
    "test_loader = DataLoader(UnivarDataset(amzn, freq='d', flag=2), batch_size=1, shuffle=False, drop_last=True)\n",
    "p,t = test(m_amzn, test_loader, out_len, label_len)"
   ]
  },
  {
   "cell_type": "code",
   "execution_count": 238,
   "metadata": {},
   "outputs": [
    {
     "data": {
      "image/png": "[encoded data removed]",
      "text/plain": [
       "<Figure size 432x288 with 1 Axes>"
      ]
     },
     "metadata": {
      "needs_background": "light"
     },
     "output_type": "display_data"
    }
   ],
   "source": [
    "k = 90\n",
    "plt.plot(t[k].flatten(), label='true')\n",
    "plt.plot(p[k].flatten(), label='informer')\n",
    "plt.plot(prophet_preds_1[k], label='prophet')\n",
    "plt.legend();"
   ]
  },
  {
   "cell_type": "code",
   "execution_count": 1184,
   "metadata": {},
   "outputs": [],
   "source": [
    "fb_pred2 = np.array(prophet_preds_1).reshape(-1, )\n",
    "inf_pred2 = p[:100].reshape(-1, )\n",
    "trues2 = t[:100].reshape(-1, )"
   ]
  },
  {
   "cell_type": "code",
   "execution_count": 1185,
   "metadata": {},
   "outputs": [
    {
     "name": "stdout",
     "output_type": "stream",
     "text": [
      "0.7401779334344769\n"
     ]
    },
    {
     "data": {
      "text/plain": [
       "1.5920494"
      ]
     },
     "execution_count": 1185,
     "metadata": {},
     "output_type": "execute_result"
    }
   ],
   "source": [
    "print(MSE(fb_pred2, trues2))\n",
    "MSE(inf_pred2, trues2)"
   ]
  },
  {
   "cell_type": "markdown",
   "metadata": {},
   "source": [
    "# Global climate change data "
   ]
  },
  {
   "cell_type": "code",
   "execution_count": 233,
   "metadata": {},
   "outputs": [],
   "source": [
    "# source https://data.world/data-society/global-climate-change-data"
   ]
  },
  {
   "cell_type": "code",
   "execution_count": 165,
   "metadata": {},
   "outputs": [],
   "source": [
    "temps = pd.read_csv('data/temps.csv')"
   ]
  },
  {
   "cell_type": "code",
   "execution_count": 166,
   "metadata": {},
   "outputs": [
    {
     "data": {
      "text/plain": [
       "dt                                              0\n",
       "LandAverageTemperature                         12\n",
       "LandAverageTemperatureUncertainty              12\n",
       "LandMaxTemperature                           1200\n",
       "LandMaxTemperatureUncertainty                1200\n",
       "LandMinTemperature                           1200\n",
       "LandMinTemperatureUncertainty                1200\n",
       "LandAndOceanAverageTemperature               1200\n",
       "LandAndOceanAverageTemperatureUncertainty    1200\n",
       "dtype: int64"
      ]
     },
     "execution_count": 166,
     "metadata": {},
     "output_type": "execute_result"
    }
   ],
   "source": [
    "temps.isnull().sum()"
   ]
  },
  {
   "cell_type": "code",
   "execution_count": 167,
   "metadata": {},
   "outputs": [],
   "source": [
    "temps = temps[temps.columns[:2]]\n",
    "temps = temps.rename(columns={'dt':'ds','LandAverageTemperature':'y'})\n",
    "temps=temps.fillna(0)\n",
    "s = StandardScaler() \n",
    "s.fit(temps['y'])\n",
    "temps['y'] = s.transform(temps['y'])"
   ]
  },
  {
   "cell_type": "code",
   "execution_count": 168,
   "metadata": {},
   "outputs": [
    {
     "data": {
      "text/html": [
       "<div>\n",
       "<style scoped>\n",
       "    .dataframe tbody tr th:only-of-type {\n",
       "        vertical-align: middle;\n",
       "    }\n",
       "\n",
       "    .dataframe tbody tr th {\n",
       "        vertical-align: top;\n",
       "    }\n",
       "\n",
       "    .dataframe thead th {\n",
       "        text-align: right;\n",
       "    }\n",
       "</style>\n",
       "<table border=\"1\" class=\"dataframe\">\n",
       "  <thead>\n",
       "    <tr style=\"text-align: right;\">\n",
       "      <th></th>\n",
       "      <th>ds</th>\n",
       "      <th>y</th>\n",
       "    </tr>\n",
       "  </thead>\n",
       "  <tbody>\n",
       "    <tr>\n",
       "      <th>0</th>\n",
       "      <td>1750-01-01</td>\n",
       "      <td>-1.205824</td>\n",
       "    </tr>\n",
       "    <tr>\n",
       "      <th>1</th>\n",
       "      <td>1750-02-01</td>\n",
       "      <td>-1.194695</td>\n",
       "    </tr>\n",
       "    <tr>\n",
       "      <th>2</th>\n",
       "      <td>1750-03-01</td>\n",
       "      <td>-0.617135</td>\n",
       "    </tr>\n",
       "  </tbody>\n",
       "</table>\n",
       "</div>"
      ],
      "text/plain": [
       "           ds         y\n",
       "0  1750-01-01 -1.205824\n",
       "1  1750-02-01 -1.194695\n",
       "2  1750-03-01 -0.617135"
      ]
     },
     "execution_count": 168,
     "metadata": {},
     "output_type": "execute_result"
    }
   ],
   "source": [
    "temps.head(3)"
   ]
  },
  {
   "cell_type": "code",
   "execution_count": 169,
   "metadata": {},
   "outputs": [
    {
     "data": {
      "image/png": "[encoded data removed]",
      "text/plain": [
       "<Figure size 432x288 with 1 Axes>"
      ]
     },
     "metadata": {
      "needs_background": "light"
     },
     "output_type": "display_data"
    }
   ],
   "source": [
    "plt.plot(temps['y'].iloc[-100:]);"
   ]
  },
  {
   "cell_type": "code",
   "execution_count": 170,
   "metadata": {},
   "outputs": [],
   "source": [
    "enc_in=1 # encoder embedder input length\n",
    "dec_in=1 # decoder embedder input length\n",
    "c_out=1 # output length\n",
    "seq_len=96 # length of Informer encoder\n",
    "label_len=48 # start token length of Informer decoder\n",
    "out_len=60 # prediction length\n",
    "\n",
    "attn = 'prob' # full or prob [type of attention layer]\n",
    "epochs = 6 # number of epochs\n",
    "learning_rate = 0.0001 # initial learning rate\n",
    "batch_size = 32\n",
    "dropout = 0.05 # dropout proportion\n",
    "d_model = 512 # dimesnsion of model\n",
    "n_heads = 8 # number of heads\n",
    "e_layers = 3 # num of encoder layers\n",
    "d_layers = 2 # num of decoder layers\n",
    "d_ff = 2048 # dimension of fully connected nets\n",
    "factor = 5 # attention factor\n",
    "freq = 'm' # frequency of a timeseries [d, h]\n",
    "patience = 3 # early stopping patience"
   ]
  },
  {
   "cell_type": "code",
   "execution_count": 171,
   "metadata": {},
   "outputs": [
    {
     "name": "stdout",
     "output_type": "stream",
     "text": [
      "Epoch: 1 cost time: 9.686855554580688\n",
      "train loss: 0.5200519343217214, vali loss: 0.03259773179888725\n",
      "Updating learning rate to 0.0001\n",
      "Epoch: 2 cost time: 9.679893016815186\n",
      "train loss: 0.06431399767597516, vali loss: 0.024324659258127213\n",
      "Updating learning rate to 5e-05\n",
      "Epoch: 3 cost time: 9.702021360397339\n",
      "train loss: 0.051254260738690695, vali loss: 0.022127680480480194\n",
      "Updating learning rate to 2.5e-05\n",
      "Epoch: 4 cost time: 9.697391033172607\n",
      "train loss: 0.04808065836628278, vali loss: 0.01706533506512642\n",
      "Updating learning rate to 1.25e-05\n",
      "Epoch: 5 cost time: 9.73042345046997\n",
      "train loss: 0.04685815552870432, vali loss: 0.018989434465765953\n",
      "Updating learning rate to 6.25e-06\n",
      "EarlyStopping counter: 1 out of 3\n",
      "Epoch: 6 cost time: 9.704275846481323\n",
      "train loss: 0.04616082015136878, vali loss: 0.01682240702211857\n",
      "Updating learning rate to 3.125e-06\n"
     ]
    }
   ],
   "source": [
    "device = get_device()\n",
    "m_temp = Informer(enc_in, dec_in, c_out, seq_len, label_len, out_len, \n",
    "                factor, d_model, n_heads, e_layers, d_layers, d_ff, \n",
    "                dropout=0.05, attn='prob', embed='fixed', freq=freq, activation='gelu', \n",
    "                output_attention=False, distil=True).to(device)\n",
    "train_loader = DataLoader(UnivarDataset(temps, freq='m'), batch_size, shuffle=True)\n",
    "vali_loader = DataLoader(UnivarDataset(temps, freq='m', flag=1), batch_size)\n",
    "train(m_temp, train_loader, vali_loader, epochs, out_len, label_len, batch_size, learning_rate)"
   ]
  },
  {
   "cell_type": "code",
   "execution_count": 190,
   "metadata": {},
   "outputs": [
    {
     "name": "stdout",
     "output_type": "stream",
     "text": [
      "test shape: (261, 1, 60, 1) (261, 1, 60, 1)\n",
      "test shape: (261, 60, 1) (261, 60, 1)\n",
      "mse:0.03177155554294586, mae:0.1475590318441391\n"
     ]
    }
   ],
   "source": [
    "test_loader = DataLoader(UnivarDataset(temps, freq='m', flag=2), batch_size=1, shuffle=False, drop_last=True)\n",
    "p_temp, t_temp = test(m_temp, test_loader, out_len, label_len)"
   ]
  },
  {
   "cell_type": "code",
   "execution_count": 197,
   "metadata": {},
   "outputs": [
    {
     "name": "stderr",
     "output_type": "stream",
     "text": [
      "INFO:fbprophet:Disabling weekly seasonality. Run prophet with weekly_seasonality=True to override this.\n",
      "INFO:fbprophet:Disabling daily seasonality. Run prophet with daily_seasonality=True to override this.\n"
     ]
    }
   ],
   "source": [
    "# testing on Amzon stockprice dataset\n",
    "test_temp = UnivarDataset(temps, freq='m', flag=2)\n",
    "temp_train = temps[:int(len(temps)*0.9)]\n",
    "\n",
    "fb_temp = Prophet(uncertainty_samples=50)\n",
    "fb_temp.fit(temp_train)\n",
    "\n",
    "prophet_preds_2 = []\n",
    "for i in range(100):\n",
    "    proph_pred = fb_temp.predict(test_temp.get_df(i))\n",
    "    prophet_preds_2.append(proph_pred['yhat'])"
   ]
  },
  {
   "cell_type": "code",
   "execution_count": 198,
   "metadata": {},
   "outputs": [
    {
     "data": {
      "text/plain": [
       "100"
      ]
     },
     "execution_count": 198,
     "metadata": {},
     "output_type": "execute_result"
    }
   ],
   "source": [
    "len(prophet_preds_2)"
   ]
  },
  {
   "cell_type": "code",
   "execution_count": 244,
   "metadata": {},
   "outputs": [
    {
     "data": {
      "image/png": "[encoded data removed]",
      "text/plain": [
       "<Figure size 432x288 with 1 Axes>"
      ]
     },
     "metadata": {
      "needs_background": "light"
     },
     "output_type": "display_data"
    }
   ],
   "source": [
    "k = 54\n",
    "plt.plot(p_temp[k].flatten(), label='informer');\n",
    "plt.plot(t_temp[k].flatten(), label='true');\n",
    "plt.plot(prophet_preds_2[k], label='prophet');\n",
    "plt.legend(loc='upper left');"
   ]
  },
  {
   "cell_type": "code",
   "execution_count": 201,
   "metadata": {},
   "outputs": [],
   "source": [
    "fb_pred3 = np.array(prophet_preds_2).reshape(-1, )\n",
    "inf_pred3 = p_temp[:100].reshape(-1, )\n",
    "trues3 = t_temp[:100].reshape(-1, )"
   ]
  },
  {
   "cell_type": "code",
   "execution_count": 202,
   "metadata": {},
   "outputs": [
    {
     "name": "stdout",
     "output_type": "stream",
     "text": [
      "0.010840630064495448\n"
     ]
    },
    {
     "data": {
      "text/plain": [
       "0.0273314"
      ]
     },
     "execution_count": 202,
     "metadata": {},
     "output_type": "execute_result"
    }
   ],
   "source": [
    "print(MSE(fb_pred3, trues3))\n",
    "MSE(inf_pred3, trues3)"
   ]
  },
  {
   "cell_type": "code",
   "execution_count": null,
   "metadata": {},
   "outputs": [],
   "source": []
  },
  {
   "cell_type": "markdown",
   "metadata": {},
   "source": [
    "## ARIMA "
   ]
  },
  {
   "cell_type": "code",
   "execution_count": 204,
   "metadata": {},
   "outputs": [],
   "source": [
    "import pmdarima as pm"
   ]
  },
  {
   "cell_type": "code",
   "execution_count": 216,
   "metadata": {},
   "outputs": [],
   "source": [
    "arima_amzn = pm.auto_arima(amzn['y'], seasonal=True, m=12)\n",
    "forecasts = arima_amzn.predict(60)  "
   ]
  },
  {
   "cell_type": "code",
   "execution_count": 218,
   "metadata": {},
   "outputs": [
    {
     "data": {
      "image/png": "[encoded data removed]",
      "text/plain": [
       "<Figure size 432x288 with 1 Axes>"
      ]
     },
     "metadata": {
      "needs_background": "light"
     },
     "output_type": "display_data"
    }
   ],
   "source": [
    "plt.plot(amzn['y'][-60:].values, c='blue')\n",
    "plt.plot(forecasts, c='green')\n",
    "plt.show()"
   ]
  },
  {
   "cell_type": "code",
   "execution_count": 205,
   "metadata": {},
   "outputs": [],
   "source": [
    "arima_temp = pm.auto_arima(temps['y'], seasonal=True, m=12)\n",
    "forecasts = arima_temp.predict(60)  "
   ]
  },
  {
   "cell_type": "code",
   "execution_count": 212,
   "metadata": {},
   "outputs": [
    {
     "data": {
      "image/png": "[encoded data removed]",
      "text/plain": [
       "<Figure size 432x288 with 1 Axes>"
      ]
     },
     "metadata": {
      "needs_background": "light"
     },
     "output_type": "display_data"
    }
   ],
   "source": [
    "plt.plot(temps['y'][-60:].values, c='blue')\n",
    "plt.plot(forecasts, c='green')\n",
    "plt.show()"
   ]
  },
  {
   "cell_type": "code",
   "execution_count": 215,
   "metadata": {},
   "outputs": [
    {
     "data": {
      "text/plain": [
       "0.008394601050303515"
      ]
     },
     "execution_count": 215,
     "metadata": {},
     "output_type": "execute_result"
    }
   ],
   "source": [
    "MSE(forecasts, temps['y'][-60:].values)"
   ]
  },
  {
   "cell_type": "code",
   "execution_count": null,
   "metadata": {},
   "outputs": [],
   "source": []
  }
 ],
 "metadata": {
  "kernelspec": {
   "display_name": "Python 3",
   "language": "python",
   "name": "python3"
  },
  "language_info": {
   "codemirror_mode": {
    "name": "ipython",
    "version": 3
   },
   "file_extension": ".py",
   "mimetype": "text/x-python",
   "name": "python",
   "nbconvert_exporter": "python",
   "pygments_lexer": "ipython3",
   "version": "3.7.9"
  }
 },
 "nbformat": 4,
 "nbformat_minor": 4
}
